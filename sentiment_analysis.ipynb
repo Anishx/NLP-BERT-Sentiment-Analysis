{
 "cells": [
  {
   "cell_type": "markdown",
   "metadata": {},
   "source": [
    "# **Sentiment Analysis for Social Media Data**"
   ]
  },
  {
   "cell_type": "markdown",
   "metadata": {},
   "source": [
    "### Imports and Initializations"
   ]
  },
  {
   "cell_type": "code",
   "execution_count": 1,
   "metadata": {},
   "outputs": [
    {
     "name": "stderr",
     "output_type": "stream",
     "text": [
      "[nltk_data] Downloading package stopwords to\n",
      "[nltk_data]     C:\\Users\\infor\\AppData\\Roaming\\nltk_data...\n",
      "[nltk_data]   Package stopwords is already up-to-date!\n",
      "[nltk_data] Downloading package averaged_perceptron_tagger to\n",
      "[nltk_data]     C:\\Users\\infor\\AppData\\Roaming\\nltk_data...\n",
      "[nltk_data]   Package averaged_perceptron_tagger is already up-to-\n",
      "[nltk_data]       date!\n",
      "[nltk_data] Downloading package wordnet to\n",
      "[nltk_data]     C:\\Users\\infor\\AppData\\Roaming\\nltk_data...\n",
      "[nltk_data]   Package wordnet is already up-to-date!\n",
      "c:\\Users\\infor\\Documents\\AAIML\\local_repo\\venv\\pytorch_gpu\\Lib\\site-packages\\tqdm\\auto.py:21: TqdmWarning: IProgress not found. Please update jupyter and ipywidgets. See https://ipywidgets.readthedocs.io/en/stable/user_install.html\n",
      "  from .autonotebook import tqdm as notebook_tqdm\n"
     ]
    }
   ],
   "source": [
    "import os\n",
    "import re\n",
    "import emoji\n",
    "import string\n",
    "import pickle\n",
    "import pandas as pd\n",
    "import numpy as np\n",
    "\n",
    "import nltk\n",
    "from nltk.tokenize import sent_tokenize, word_tokenize\n",
    "nltk.download('stopwords')\n",
    "nltk.download('averaged_perceptron_tagger')\n",
    "nltk.download('wordnet')\n",
    "\n",
    "from nltk.corpus import stopwords, wordnet\n",
    "from nltk.stem import WordNetLemmatizer\n",
    "\n",
    "from sklearn.model_selection import train_test_split, GridSearchCV\n",
    "from sklearn.feature_extraction.text import TfidfVectorizer\n",
    "from gensim.models import Word2Vec\n",
    "from sklearn.svm import SVC\n",
    "from sklearn.naive_bayes import MultinomialNB\n",
    "from sklearn.neural_network import MLPClassifier\n",
    "\n",
    "import torch\n",
    "from transformers import BertTokenizer, BertModel\n",
    "\n",
    "from sklearn.metrics import precision_score, recall_score, f1_score, accuracy_score, confusion_matrix, classification_report, ConfusionMatrixDisplay\n",
    "import matplotlib.pyplot as plt\n",
    "import seaborn as sns"
   ]
  },
  {
   "cell_type": "code",
   "execution_count": 2,
   "metadata": {},
   "outputs": [],
   "source": [
    "pickle_folder = 'pickles'\n",
    "sentiment_file = os.path.join( 'content', 'reddit_comments_with_sentiment.csv')\n",
    "url_pattern = re.compile('http\\S+|www\\S+|https\\S+')\n",
    "random_state = 42"
   ]
  },
  {
   "cell_type": "code",
   "execution_count": 3,
   "metadata": {},
   "outputs": [],
   "source": [
    "np.random.seed(random_state)\n",
    "en_stopwords = stopwords.words('english')\n",
    "punctuation_list = list(string.punctuation)\n",
    "lemmatizer = WordNetLemmatizer()"
   ]
  },
  {
   "cell_type": "markdown",
   "metadata": {},
   "source": [
    "### Loading Data"
   ]
  },
  {
   "cell_type": "code",
   "execution_count": 4,
   "metadata": {},
   "outputs": [
    {
     "data": {
      "text/html": [
       "<div>\n",
       "<style scoped>\n",
       "    .dataframe tbody tr th:only-of-type {\n",
       "        vertical-align: middle;\n",
       "    }\n",
       "\n",
       "    .dataframe tbody tr th {\n",
       "        vertical-align: top;\n",
       "    }\n",
       "\n",
       "    .dataframe thead th {\n",
       "        text-align: right;\n",
       "    }\n",
       "</style>\n",
       "<table border=\"1\" class=\"dataframe\">\n",
       "  <thead>\n",
       "    <tr style=\"text-align: right;\">\n",
       "      <th></th>\n",
       "      <th>Title</th>\n",
       "      <th>Comment</th>\n",
       "      <th>upRatio</th>\n",
       "      <th>Sentiment</th>\n",
       "    </tr>\n",
       "  </thead>\n",
       "  <tbody>\n",
       "    <tr>\n",
       "      <th>0</th>\n",
       "      <td>Donald Trump sells cut-up pieces of suit he wo...</td>\n",
       "      <td>\\nAs a reminder, this subreddit [is for civil ...</td>\n",
       "      <td>0.94</td>\n",
       "      <td>negative</td>\n",
       "    </tr>\n",
       "    <tr>\n",
       "      <th>1</th>\n",
       "      <td>Donald Trump sells cut-up pieces of suit he wo...</td>\n",
       "      <td>Probably some rag he bought off the rack, not ...</td>\n",
       "      <td>0.94</td>\n",
       "      <td>negative</td>\n",
       "    </tr>\n",
       "    <tr>\n",
       "      <th>2</th>\n",
       "      <td>Donald Trump sells cut-up pieces of suit he wo...</td>\n",
       "      <td>Just so it's clear, there will certainly be fa...</td>\n",
       "      <td>0.94</td>\n",
       "      <td>positive</td>\n",
       "    </tr>\n",
       "    <tr>\n",
       "      <th>3</th>\n",
       "      <td>Donald Trump sells cut-up pieces of suit he wo...</td>\n",
       "      <td>That guy was actually in the role of the presi...</td>\n",
       "      <td>0.94</td>\n",
       "      <td>negative</td>\n",
       "    </tr>\n",
       "    <tr>\n",
       "      <th>4</th>\n",
       "      <td>Donald Trump sells cut-up pieces of suit he wo...</td>\n",
       "      <td>It's literally a cult\\n\\nWhat sickos</td>\n",
       "      <td>0.94</td>\n",
       "      <td>negative</td>\n",
       "    </tr>\n",
       "    <tr>\n",
       "      <th>...</th>\n",
       "      <td>...</td>\n",
       "      <td>...</td>\n",
       "      <td>...</td>\n",
       "      <td>...</td>\n",
       "    </tr>\n",
       "    <tr>\n",
       "      <th>26694</th>\n",
       "      <td>The TikTok Panic Reached a New Level of Stupid...</td>\n",
       "      <td>Keep my daughter’s name out of your voice!!!</td>\n",
       "      <td>0.79</td>\n",
       "      <td>positive</td>\n",
       "    </tr>\n",
       "    <tr>\n",
       "      <th>26695</th>\n",
       "      <td>The TikTok Panic Reached a New Level of Stupid...</td>\n",
       "      <td>From reporter Jules Roscoe:\\n\\nIn the fourth R...</td>\n",
       "      <td>0.79</td>\n",
       "      <td>negative</td>\n",
       "    </tr>\n",
       "    <tr>\n",
       "      <th>26696</th>\n",
       "      <td>The TikTok Panic Reached a New Level of Stupid...</td>\n",
       "      <td>TikTok is right up there with X for platforms ...</td>\n",
       "      <td>0.79</td>\n",
       "      <td>positive</td>\n",
       "    </tr>\n",
       "    <tr>\n",
       "      <th>26697</th>\n",
       "      <td>The TikTok Panic Reached a New Level of Stupid...</td>\n",
       "      <td>I feel 17% stupider for having read this.</td>\n",
       "      <td>0.79</td>\n",
       "      <td>negative</td>\n",
       "    </tr>\n",
       "    <tr>\n",
       "      <th>26698</th>\n",
       "      <td>The TikTok Panic Reached a New Level of Stupid...</td>\n",
       "      <td>Possibly true. I’ve spent no time on tik tok a...</td>\n",
       "      <td>0.79</td>\n",
       "      <td>negative</td>\n",
       "    </tr>\n",
       "  </tbody>\n",
       "</table>\n",
       "<p>26699 rows × 4 columns</p>\n",
       "</div>"
      ],
      "text/plain": [
       "                                                   Title  \\\n",
       "0      Donald Trump sells cut-up pieces of suit he wo...   \n",
       "1      Donald Trump sells cut-up pieces of suit he wo...   \n",
       "2      Donald Trump sells cut-up pieces of suit he wo...   \n",
       "3      Donald Trump sells cut-up pieces of suit he wo...   \n",
       "4      Donald Trump sells cut-up pieces of suit he wo...   \n",
       "...                                                  ...   \n",
       "26694  The TikTok Panic Reached a New Level of Stupid...   \n",
       "26695  The TikTok Panic Reached a New Level of Stupid...   \n",
       "26696  The TikTok Panic Reached a New Level of Stupid...   \n",
       "26697  The TikTok Panic Reached a New Level of Stupid...   \n",
       "26698  The TikTok Panic Reached a New Level of Stupid...   \n",
       "\n",
       "                                                 Comment  upRatio Sentiment  \n",
       "0      \\nAs a reminder, this subreddit [is for civil ...     0.94  negative  \n",
       "1      Probably some rag he bought off the rack, not ...     0.94  negative  \n",
       "2      Just so it's clear, there will certainly be fa...     0.94  positive  \n",
       "3      That guy was actually in the role of the presi...     0.94  negative  \n",
       "4                   It's literally a cult\\n\\nWhat sickos     0.94  negative  \n",
       "...                                                  ...      ...       ...  \n",
       "26694       Keep my daughter’s name out of your voice!!!     0.79  positive  \n",
       "26695  From reporter Jules Roscoe:\\n\\nIn the fourth R...     0.79  negative  \n",
       "26696  TikTok is right up there with X for platforms ...     0.79  positive  \n",
       "26697          I feel 17% stupider for having read this.     0.79  negative  \n",
       "26698  Possibly true. I’ve spent no time on tik tok a...     0.79  negative  \n",
       "\n",
       "[26699 rows x 4 columns]"
      ]
     },
     "metadata": {},
     "output_type": "display_data"
    }
   ],
   "source": [
    "df = pd.read_csv(sentiment_file)\n",
    "display(df)"
   ]
  },
  {
   "cell_type": "code",
   "execution_count": 5,
   "metadata": {},
   "outputs": [
    {
     "data": {
      "text/plain": [
       "Comment\n",
       "[deleted]    152\n",
       "[removed]     83\n",
       "Name: count, dtype: int64"
      ]
     },
     "execution_count": 5,
     "metadata": {},
     "output_type": "execute_result"
    }
   ],
   "source": [
    "comments_to_exclude = ['[deleted]', '[removed]']\n",
    "df[df['Comment'].str.strip().isin(comments_to_exclude)]['Comment'].value_counts()"
   ]
  },
  {
   "cell_type": "code",
   "execution_count": 6,
   "metadata": {},
   "outputs": [
    {
     "name": "stdout",
     "output_type": "stream",
     "text": [
      "(26464, 4)\n"
     ]
    },
    {
     "data": {
      "text/plain": [
       "Sentiment\n",
       "negative    19045\n",
       "positive     5858\n",
       "neutral      1561\n",
       "Name: count, dtype: int64"
      ]
     },
     "execution_count": 6,
     "metadata": {},
     "output_type": "execute_result"
    }
   ],
   "source": [
    "df = df[~df['Comment'].str.strip().isin(comments_to_exclude)]\n",
    "print(df.shape)\n",
    "df['Sentiment'].value_counts()"
   ]
  },
  {
   "cell_type": "markdown",
   "metadata": {},
   "source": [
    "### Balancing the Classes"
   ]
  },
  {
   "cell_type": "code",
   "execution_count": 7,
   "metadata": {},
   "outputs": [],
   "source": [
    "random_negative_indices = np.random.choice(df[df['Sentiment'] == 'negative'].index, 13187, replace=False)"
   ]
  },
  {
   "cell_type": "code",
   "execution_count": 8,
   "metadata": {},
   "outputs": [
    {
     "name": "stdout",
     "output_type": "stream",
     "text": [
      "(13277, 4)\n"
     ]
    },
    {
     "data": {
      "text/plain": [
       "Sentiment\n",
       "positive    5858\n",
       "negative    5858\n",
       "neutral     1561\n",
       "Name: count, dtype: int64"
      ]
     },
     "execution_count": 8,
     "metadata": {},
     "output_type": "execute_result"
    }
   ],
   "source": [
    "df = df.drop(index=random_negative_indices)\n",
    "print(df.shape)\n",
    "df['Sentiment'].value_counts()"
   ]
  },
  {
   "cell_type": "markdown",
   "metadata": {},
   "source": [
    "---"
   ]
  },
  {
   "cell_type": "markdown",
   "metadata": {},
   "source": [
    "## Data Preprocessing"
   ]
  },
  {
   "cell_type": "code",
   "execution_count": 9,
   "metadata": {},
   "outputs": [],
   "source": [
    "def preprocess_text(input_str: str)->str:\n",
    "    \"\"\"\n",
    "    Returns the input string after applying basic NLP tasks \n",
    "    (Stopword removal, Punctuation removal and lemmatization using POS tagging)\n",
    "    \"\"\"\n",
    "    def get_wordnet_pos(tag):\n",
    "        \"\"\"\n",
    "        Returns wordnet POS tag object.\n",
    "        \"\"\"\n",
    "        if tag.startswith('J'):\n",
    "            return wordnet.ADJ\n",
    "        elif tag.startswith('V'):\n",
    "            return wordnet.VERB\n",
    "        elif tag.startswith('N'):\n",
    "            return wordnet.NOUN\n",
    "        elif tag.startswith('R'):\n",
    "            return wordnet.ADV\n",
    "        else:\n",
    "            return wordnet.NOUN\n",
    "    \n",
    "    # Removing links\n",
    "    input_str = url_pattern.sub('', input_str)\n",
    "\n",
    "    # Handling emojis\n",
    "    input_str = emoji.demojize(input_str)\n",
    "\n",
    "    # Tokenization \n",
    "    tokens = [\n",
    "            word for word in word_tokenize(input_str) \n",
    "            if word.lower() not in en_stopwords       # stopword removal\n",
    "                and word not in punctuation_list      # punctuation removal\n",
    "                and not re.match(r'\\W+$', word)       # removing tokens with only special chars\n",
    "    ]\n",
    "    \n",
    "    pos_tagged = nltk.pos_tag(tokens) # POS tagging\n",
    "    lemmatized_with_pos = [\n",
    "        lemmatizer.lemmatize(word, get_wordnet_pos(pos)) for word, pos in pos_tagged\n",
    "    ]  # Lemmatization\n",
    "    cleansed_sentence = ' '.join(lemmatized_with_pos).lower() # Case folding\n",
    "\n",
    "    return cleansed_sentence"
   ]
  },
  {
   "cell_type": "code",
   "execution_count": null,
   "metadata": {},
   "outputs": [],
   "source": [
    "# for comment in df['Comment'].loc[[130, 2099, 2, 2058]]:\n",
    "#     print(comment)\n",
    "#     print('-' * 75)\n",
    "#     print(preprocess_text(comment))\n",
    "#     print('='*200)"
   ]
  },
  {
   "cell_type": "code",
   "execution_count": 10,
   "metadata": {},
   "outputs": [],
   "source": [
    "df['Processed_Comment'] = df['Comment'].apply(preprocess_text)"
   ]
  },
  {
   "cell_type": "code",
   "execution_count": 11,
   "metadata": {},
   "outputs": [],
   "source": [
    "X_train, X_test, y_train, y_test = train_test_split(df['Processed_Comment'], df['Sentiment'], test_size=0.25, random_state=random_state)"
   ]
  },
  {
   "cell_type": "code",
   "execution_count": 12,
   "metadata": {},
   "outputs": [],
   "source": [
    "processed_data = {\n",
    "    'X_train': X_train, 'X_test': X_test, 'y_train': y_train, 'y_test':y_test\n",
    "}\n",
    "with open(os.path.join(pickle_folder, 'processed_data.pickle'), 'wb') as fo:\n",
    "    pickle.dump(processed_data, fo)"
   ]
  },
  {
   "cell_type": "code",
   "execution_count": null,
   "metadata": {},
   "outputs": [],
   "source": [
    "# with open(os.path.join(pickle_folder, 'processed_data.pickle'), 'rb') as fo:\n",
    "#     processed_data = pickle.load(fo)\n",
    "# X_train, X_test, y_train, y_test = processed_data['X_train'], processed_data['X_test'], processed_data['y_train'], processed_data['y_test']"
   ]
  },
  {
   "cell_type": "markdown",
   "metadata": {},
   "source": [
    "---"
   ]
  },
  {
   "cell_type": "markdown",
   "metadata": {},
   "source": [
    "## Feature Extractions"
   ]
  },
  {
   "cell_type": "markdown",
   "metadata": {},
   "source": [
    "### TF-IDF"
   ]
  },
  {
   "cell_type": "code",
   "execution_count": 13,
   "metadata": {},
   "outputs": [
    {
     "name": "stdout",
     "output_type": "stream",
     "text": [
      "TF-IDF Features: 1000\n"
     ]
    }
   ],
   "source": [
    "tfidf_vectorizer = TfidfVectorizer(max_features=1000, ngram_range=(1, 2))\n",
    "X_train_tfidf = tfidf_vectorizer.fit_transform(X_train)\n",
    "tfidf_features = tfidf_vectorizer.get_feature_names_out()\n",
    "print(f'TF-IDF Features: {len(tfidf_features)}')"
   ]
  },
  {
   "cell_type": "code",
   "execution_count": 14,
   "metadata": {},
   "outputs": [
    {
     "data": {
      "text/html": [
       "<div>\n",
       "<style scoped>\n",
       "    .dataframe tbody tr th:only-of-type {\n",
       "        vertical-align: middle;\n",
       "    }\n",
       "\n",
       "    .dataframe tbody tr th {\n",
       "        vertical-align: top;\n",
       "    }\n",
       "\n",
       "    .dataframe thead th {\n",
       "        text-align: right;\n",
       "    }\n",
       "</style>\n",
       "<table border=\"1\" class=\"dataframe\">\n",
       "  <thead>\n",
       "    <tr style=\"text-align: right;\">\n",
       "      <th></th>\n",
       "      <th>000</th>\n",
       "      <th>10</th>\n",
       "      <th>100</th>\n",
       "      <th>20</th>\n",
       "      <th>2016</th>\n",
       "      <th>2020</th>\n",
       "      <th>2024</th>\n",
       "      <th>30</th>\n",
       "      <th>40</th>\n",
       "      <th>50</th>\n",
       "      <th>...</th>\n",
       "      <th>wrong</th>\n",
       "      <th>wtf</th>\n",
       "      <th>ya</th>\n",
       "      <th>yeah</th>\n",
       "      <th>year</th>\n",
       "      <th>year ago</th>\n",
       "      <th>yes</th>\n",
       "      <th>yet</th>\n",
       "      <th>young</th>\n",
       "      <th>zero</th>\n",
       "    </tr>\n",
       "  </thead>\n",
       "  <tbody>\n",
       "    <tr>\n",
       "      <th>0</th>\n",
       "      <td>0.0</td>\n",
       "      <td>0.385376</td>\n",
       "      <td>0.0</td>\n",
       "      <td>0.0</td>\n",
       "      <td>0.0</td>\n",
       "      <td>0.0</td>\n",
       "      <td>0.0</td>\n",
       "      <td>0.0</td>\n",
       "      <td>0.0</td>\n",
       "      <td>0.0</td>\n",
       "      <td>...</td>\n",
       "      <td>0.000000</td>\n",
       "      <td>0.0</td>\n",
       "      <td>0.0</td>\n",
       "      <td>0.170106</td>\n",
       "      <td>0.000000</td>\n",
       "      <td>0.0</td>\n",
       "      <td>0.000000</td>\n",
       "      <td>0.0</td>\n",
       "      <td>0.0</td>\n",
       "      <td>0.0</td>\n",
       "    </tr>\n",
       "    <tr>\n",
       "      <th>1</th>\n",
       "      <td>0.0</td>\n",
       "      <td>0.000000</td>\n",
       "      <td>0.0</td>\n",
       "      <td>0.0</td>\n",
       "      <td>0.0</td>\n",
       "      <td>0.0</td>\n",
       "      <td>0.0</td>\n",
       "      <td>0.0</td>\n",
       "      <td>0.0</td>\n",
       "      <td>0.0</td>\n",
       "      <td>...</td>\n",
       "      <td>0.000000</td>\n",
       "      <td>0.0</td>\n",
       "      <td>0.0</td>\n",
       "      <td>0.000000</td>\n",
       "      <td>0.000000</td>\n",
       "      <td>0.0</td>\n",
       "      <td>0.000000</td>\n",
       "      <td>0.0</td>\n",
       "      <td>0.0</td>\n",
       "      <td>0.0</td>\n",
       "    </tr>\n",
       "    <tr>\n",
       "      <th>2</th>\n",
       "      <td>0.0</td>\n",
       "      <td>0.000000</td>\n",
       "      <td>0.0</td>\n",
       "      <td>0.0</td>\n",
       "      <td>0.0</td>\n",
       "      <td>0.0</td>\n",
       "      <td>0.0</td>\n",
       "      <td>0.0</td>\n",
       "      <td>0.0</td>\n",
       "      <td>0.0</td>\n",
       "      <td>...</td>\n",
       "      <td>0.000000</td>\n",
       "      <td>0.0</td>\n",
       "      <td>0.0</td>\n",
       "      <td>0.000000</td>\n",
       "      <td>0.000000</td>\n",
       "      <td>0.0</td>\n",
       "      <td>0.000000</td>\n",
       "      <td>0.0</td>\n",
       "      <td>0.0</td>\n",
       "      <td>0.0</td>\n",
       "    </tr>\n",
       "    <tr>\n",
       "      <th>3</th>\n",
       "      <td>0.0</td>\n",
       "      <td>0.000000</td>\n",
       "      <td>0.0</td>\n",
       "      <td>0.0</td>\n",
       "      <td>0.0</td>\n",
       "      <td>0.0</td>\n",
       "      <td>0.0</td>\n",
       "      <td>0.0</td>\n",
       "      <td>0.0</td>\n",
       "      <td>0.0</td>\n",
       "      <td>...</td>\n",
       "      <td>0.000000</td>\n",
       "      <td>0.0</td>\n",
       "      <td>0.0</td>\n",
       "      <td>0.000000</td>\n",
       "      <td>0.000000</td>\n",
       "      <td>0.0</td>\n",
       "      <td>0.000000</td>\n",
       "      <td>0.0</td>\n",
       "      <td>0.0</td>\n",
       "      <td>0.0</td>\n",
       "    </tr>\n",
       "    <tr>\n",
       "      <th>4</th>\n",
       "      <td>0.0</td>\n",
       "      <td>0.000000</td>\n",
       "      <td>0.0</td>\n",
       "      <td>0.0</td>\n",
       "      <td>0.0</td>\n",
       "      <td>0.0</td>\n",
       "      <td>0.0</td>\n",
       "      <td>0.0</td>\n",
       "      <td>0.0</td>\n",
       "      <td>0.0</td>\n",
       "      <td>...</td>\n",
       "      <td>0.076819</td>\n",
       "      <td>0.0</td>\n",
       "      <td>0.0</td>\n",
       "      <td>0.000000</td>\n",
       "      <td>0.059651</td>\n",
       "      <td>0.0</td>\n",
       "      <td>0.071932</td>\n",
       "      <td>0.0</td>\n",
       "      <td>0.0</td>\n",
       "      <td>0.0</td>\n",
       "    </tr>\n",
       "    <tr>\n",
       "      <th>...</th>\n",
       "      <td>...</td>\n",
       "      <td>...</td>\n",
       "      <td>...</td>\n",
       "      <td>...</td>\n",
       "      <td>...</td>\n",
       "      <td>...</td>\n",
       "      <td>...</td>\n",
       "      <td>...</td>\n",
       "      <td>...</td>\n",
       "      <td>...</td>\n",
       "      <td>...</td>\n",
       "      <td>...</td>\n",
       "      <td>...</td>\n",
       "      <td>...</td>\n",
       "      <td>...</td>\n",
       "      <td>...</td>\n",
       "      <td>...</td>\n",
       "      <td>...</td>\n",
       "      <td>...</td>\n",
       "      <td>...</td>\n",
       "      <td>...</td>\n",
       "    </tr>\n",
       "    <tr>\n",
       "      <th>9952</th>\n",
       "      <td>0.0</td>\n",
       "      <td>0.000000</td>\n",
       "      <td>0.0</td>\n",
       "      <td>0.0</td>\n",
       "      <td>0.0</td>\n",
       "      <td>0.0</td>\n",
       "      <td>0.0</td>\n",
       "      <td>0.0</td>\n",
       "      <td>0.0</td>\n",
       "      <td>0.0</td>\n",
       "      <td>...</td>\n",
       "      <td>0.000000</td>\n",
       "      <td>0.0</td>\n",
       "      <td>0.0</td>\n",
       "      <td>0.000000</td>\n",
       "      <td>0.000000</td>\n",
       "      <td>0.0</td>\n",
       "      <td>0.000000</td>\n",
       "      <td>0.0</td>\n",
       "      <td>0.0</td>\n",
       "      <td>0.0</td>\n",
       "    </tr>\n",
       "    <tr>\n",
       "      <th>9953</th>\n",
       "      <td>0.0</td>\n",
       "      <td>0.000000</td>\n",
       "      <td>0.0</td>\n",
       "      <td>0.0</td>\n",
       "      <td>0.0</td>\n",
       "      <td>0.0</td>\n",
       "      <td>0.0</td>\n",
       "      <td>0.0</td>\n",
       "      <td>0.0</td>\n",
       "      <td>0.0</td>\n",
       "      <td>...</td>\n",
       "      <td>0.000000</td>\n",
       "      <td>0.0</td>\n",
       "      <td>0.0</td>\n",
       "      <td>0.000000</td>\n",
       "      <td>0.000000</td>\n",
       "      <td>0.0</td>\n",
       "      <td>0.000000</td>\n",
       "      <td>0.0</td>\n",
       "      <td>0.0</td>\n",
       "      <td>0.0</td>\n",
       "    </tr>\n",
       "    <tr>\n",
       "      <th>9954</th>\n",
       "      <td>0.0</td>\n",
       "      <td>0.000000</td>\n",
       "      <td>0.0</td>\n",
       "      <td>0.0</td>\n",
       "      <td>0.0</td>\n",
       "      <td>0.0</td>\n",
       "      <td>0.0</td>\n",
       "      <td>0.0</td>\n",
       "      <td>0.0</td>\n",
       "      <td>0.0</td>\n",
       "      <td>...</td>\n",
       "      <td>0.000000</td>\n",
       "      <td>0.0</td>\n",
       "      <td>0.0</td>\n",
       "      <td>0.000000</td>\n",
       "      <td>0.000000</td>\n",
       "      <td>0.0</td>\n",
       "      <td>0.000000</td>\n",
       "      <td>0.0</td>\n",
       "      <td>0.0</td>\n",
       "      <td>0.0</td>\n",
       "    </tr>\n",
       "    <tr>\n",
       "      <th>9955</th>\n",
       "      <td>0.0</td>\n",
       "      <td>0.000000</td>\n",
       "      <td>0.0</td>\n",
       "      <td>0.0</td>\n",
       "      <td>0.0</td>\n",
       "      <td>0.0</td>\n",
       "      <td>0.0</td>\n",
       "      <td>0.0</td>\n",
       "      <td>0.0</td>\n",
       "      <td>0.0</td>\n",
       "      <td>...</td>\n",
       "      <td>0.000000</td>\n",
       "      <td>0.0</td>\n",
       "      <td>0.0</td>\n",
       "      <td>0.000000</td>\n",
       "      <td>0.000000</td>\n",
       "      <td>0.0</td>\n",
       "      <td>0.000000</td>\n",
       "      <td>0.0</td>\n",
       "      <td>0.0</td>\n",
       "      <td>0.0</td>\n",
       "    </tr>\n",
       "    <tr>\n",
       "      <th>9956</th>\n",
       "      <td>0.0</td>\n",
       "      <td>0.000000</td>\n",
       "      <td>0.0</td>\n",
       "      <td>0.0</td>\n",
       "      <td>0.0</td>\n",
       "      <td>0.0</td>\n",
       "      <td>0.0</td>\n",
       "      <td>0.0</td>\n",
       "      <td>0.0</td>\n",
       "      <td>0.0</td>\n",
       "      <td>...</td>\n",
       "      <td>0.000000</td>\n",
       "      <td>0.0</td>\n",
       "      <td>0.0</td>\n",
       "      <td>0.000000</td>\n",
       "      <td>0.000000</td>\n",
       "      <td>0.0</td>\n",
       "      <td>0.000000</td>\n",
       "      <td>0.0</td>\n",
       "      <td>0.0</td>\n",
       "      <td>0.0</td>\n",
       "    </tr>\n",
       "  </tbody>\n",
       "</table>\n",
       "<p>9957 rows × 1000 columns</p>\n",
       "</div>"
      ],
      "text/plain": [
       "      000        10  100   20  2016  2020  2024   30   40   50  ...     wrong  \\\n",
       "0     0.0  0.385376  0.0  0.0   0.0   0.0   0.0  0.0  0.0  0.0  ...  0.000000   \n",
       "1     0.0  0.000000  0.0  0.0   0.0   0.0   0.0  0.0  0.0  0.0  ...  0.000000   \n",
       "2     0.0  0.000000  0.0  0.0   0.0   0.0   0.0  0.0  0.0  0.0  ...  0.000000   \n",
       "3     0.0  0.000000  0.0  0.0   0.0   0.0   0.0  0.0  0.0  0.0  ...  0.000000   \n",
       "4     0.0  0.000000  0.0  0.0   0.0   0.0   0.0  0.0  0.0  0.0  ...  0.076819   \n",
       "...   ...       ...  ...  ...   ...   ...   ...  ...  ...  ...  ...       ...   \n",
       "9952  0.0  0.000000  0.0  0.0   0.0   0.0   0.0  0.0  0.0  0.0  ...  0.000000   \n",
       "9953  0.0  0.000000  0.0  0.0   0.0   0.0   0.0  0.0  0.0  0.0  ...  0.000000   \n",
       "9954  0.0  0.000000  0.0  0.0   0.0   0.0   0.0  0.0  0.0  0.0  ...  0.000000   \n",
       "9955  0.0  0.000000  0.0  0.0   0.0   0.0   0.0  0.0  0.0  0.0  ...  0.000000   \n",
       "9956  0.0  0.000000  0.0  0.0   0.0   0.0   0.0  0.0  0.0  0.0  ...  0.000000   \n",
       "\n",
       "      wtf   ya      yeah      year  year ago       yes  yet  young  zero  \n",
       "0     0.0  0.0  0.170106  0.000000       0.0  0.000000  0.0    0.0   0.0  \n",
       "1     0.0  0.0  0.000000  0.000000       0.0  0.000000  0.0    0.0   0.0  \n",
       "2     0.0  0.0  0.000000  0.000000       0.0  0.000000  0.0    0.0   0.0  \n",
       "3     0.0  0.0  0.000000  0.000000       0.0  0.000000  0.0    0.0   0.0  \n",
       "4     0.0  0.0  0.000000  0.059651       0.0  0.071932  0.0    0.0   0.0  \n",
       "...   ...  ...       ...       ...       ...       ...  ...    ...   ...  \n",
       "9952  0.0  0.0  0.000000  0.000000       0.0  0.000000  0.0    0.0   0.0  \n",
       "9953  0.0  0.0  0.000000  0.000000       0.0  0.000000  0.0    0.0   0.0  \n",
       "9954  0.0  0.0  0.000000  0.000000       0.0  0.000000  0.0    0.0   0.0  \n",
       "9955  0.0  0.0  0.000000  0.000000       0.0  0.000000  0.0    0.0   0.0  \n",
       "9956  0.0  0.0  0.000000  0.000000       0.0  0.000000  0.0    0.0   0.0  \n",
       "\n",
       "[9957 rows x 1000 columns]"
      ]
     },
     "execution_count": 14,
     "metadata": {},
     "output_type": "execute_result"
    }
   ],
   "source": [
    "df_train_vectors_tfidf = pd.DataFrame.sparse.from_spmatrix(X_train_tfidf)\n",
    "df_train_vectors_tfidf.columns = tfidf_features\n",
    "df_train_vectors_tfidf"
   ]
  },
  {
   "cell_type": "code",
   "execution_count": 15,
   "metadata": {},
   "outputs": [],
   "source": [
    "X_test_tfidf = tfidf_vectorizer.transform(X_test)"
   ]
  },
  {
   "cell_type": "code",
   "execution_count": 16,
   "metadata": {},
   "outputs": [],
   "source": [
    "with open(os.path.join(pickle_folder, 'tfidf_vectorizer.pickle'), 'wb') as fo:\n",
    "    pickle.dump(tfidf_vectorizer, fo)"
   ]
  },
  {
   "cell_type": "code",
   "execution_count": null,
   "metadata": {},
   "outputs": [],
   "source": [
    "# with open(os.path.join(pickle_folder, 'tfidf_vectorizer.pickle'), 'rb') as fo:\n",
    "    # tfidf_vectorizer = pickle.load(fo)"
   ]
  },
  {
   "cell_type": "markdown",
   "metadata": {},
   "source": [
    "### Word2Vec"
   ]
  },
  {
   "cell_type": "code",
   "execution_count": 17,
   "metadata": {},
   "outputs": [],
   "source": [
    "tokenized_texts = [word_tokenize(text) for text in X_train]\n",
    "\n",
    "word2vec_model = Word2Vec(\n",
    "    sentences=tokenized_texts, vector_size=1000, window=5, min_count=1, workers=4\n",
    ")"
   ]
  },
  {
   "cell_type": "code",
   "execution_count": 18,
   "metadata": {},
   "outputs": [],
   "source": [
    "with open(os.path.join(pickle_folder, 'word2vec_model.pickle'), 'wb') as fo:\n",
    "    pickle.dump(word2vec_model, fo)"
   ]
  },
  {
   "cell_type": "code",
   "execution_count": 6,
   "metadata": {},
   "outputs": [],
   "source": [
    "# with open(os.path.join(pickle_folder, 'word2vec_model.pickle'), 'rb') as fo:\n",
    "#     word2vec_model = pickle.load(fo)"
   ]
  },
  {
   "cell_type": "code",
   "execution_count": 19,
   "metadata": {},
   "outputs": [],
   "source": [
    "def get_word2vec_features(text):\n",
    "    words = word_tokenize(text)\n",
    "    vectors = [word2vec_model.wv[word] for word in words if word in word2vec_model.wv]\n",
    "    if vectors:\n",
    "        return sum(vectors) / len(vectors)\n",
    "    else:\n",
    "        return [0] * 1000  \n"
   ]
  },
  {
   "cell_type": "code",
   "execution_count": 20,
   "metadata": {},
   "outputs": [],
   "source": [
    "X_train_word2vec = [get_word2vec_features(text) for text in X_train]"
   ]
  },
  {
   "cell_type": "code",
   "execution_count": 21,
   "metadata": {},
   "outputs": [],
   "source": [
    "X_test_word2vec = [get_word2vec_features(text) for text in X_test]"
   ]
  },
  {
   "cell_type": "markdown",
   "metadata": {},
   "source": [
    "### Context based Embeddings - BERT"
   ]
  },
  {
   "cell_type": "code",
   "execution_count": 22,
   "metadata": {},
   "outputs": [],
   "source": [
    "tokenizer = BertTokenizer.from_pretrained(\"bert-base-uncased\")\n",
    "model = BertModel.from_pretrained(\"bert-base-uncased\").to('cuda:0')"
   ]
  },
  {
   "cell_type": "code",
   "execution_count": 23,
   "metadata": {},
   "outputs": [],
   "source": [
    "with open(os.path.join(pickle_folder, 'bert_tokenizer.pickle'), 'wb') as fo:\n",
    "    pickle.dump(tokenizer, fo)"
   ]
  },
  {
   "cell_type": "code",
   "execution_count": 24,
   "metadata": {},
   "outputs": [],
   "source": [
    "with open(os.path.join(pickle_folder, 'bert_model.pickle'), 'wb') as fo:\n",
    "    pickle.dump(model, fo)"
   ]
  },
  {
   "cell_type": "code",
   "execution_count": 25,
   "metadata": {},
   "outputs": [],
   "source": [
    "def get_bert_embeddings(texts, batch_size=16):\n",
    "    if not isinstance(texts, list):\n",
    "        texts = texts.to_list()\n",
    "    \n",
    "    def batchify(data, batch_size):\n",
    "        for i in range(0, len(data), batch_size):\n",
    "            yield data[i:i + batch_size]\n",
    "    \n",
    "    embeddings = []\n",
    "    with torch.no_grad():\n",
    "        for batch_texts in batchify(texts, batch_size):\n",
    "            # Tokenize and pad the input texts\n",
    "            tokenized_texts = tokenizer(batch_texts, padding=True, truncation=True, return_tensors=\"pt\", max_length=128).to('cuda:0')\n",
    "\n",
    "            # Forward pass to obtain BERT embeddings\n",
    "            outputs = model(**tokenized_texts)\n",
    "            batch_embeddings = outputs.last_hidden_state.mean(dim=1).cpu().numpy()\n",
    "\n",
    "            # Store the embeddings\n",
    "            embeddings.extend(batch_embeddings)\n",
    "\n",
    "    # Convert list of embeddings to a numpy array\n",
    "    embeddings = np.array(embeddings)\n",
    "\n",
    "    return embeddings\n"
   ]
  },
  {
   "cell_type": "code",
   "execution_count": 26,
   "metadata": {},
   "outputs": [],
   "source": [
    "X_train_bert = get_bert_embeddings(X_train.to_list())"
   ]
  },
  {
   "cell_type": "code",
   "execution_count": 27,
   "metadata": {},
   "outputs": [],
   "source": [
    "X_test_bert = get_bert_embeddings(X_test.to_list())"
   ]
  },
  {
   "cell_type": "markdown",
   "metadata": {},
   "source": [
    "---"
   ]
  },
  {
   "cell_type": "markdown",
   "metadata": {},
   "source": [
    "## Modeling"
   ]
  },
  {
   "cell_type": "code",
   "execution_count": 34,
   "metadata": {},
   "outputs": [],
   "source": [
    "def show_metrics(y_actual, y_predicted, title=''):\n",
    "    \"\"\" Function to calculate and display the metrics for a classification problem \"\"\"\n",
    "    \n",
    "    plt.figure(figsize=(4.5, 3))\n",
    "    _ = ConfusionMatrixDisplay.from_predictions(y_actual, y_predicted)\n",
    "    if title:\n",
    "        plt.title(title)\n",
    "    plt.show()\n",
    "    plt.savefig(os.path.join('plots', title))\n",
    "    print(classification_report(y_actual, y_predicted))"
   ]
  },
  {
   "cell_type": "code",
   "execution_count": 39,
   "metadata": {},
   "outputs": [],
   "source": [
    "def build_model(X_train, y_train, model_name='SVM'):\n",
    "    models = {\n",
    "        'SVM': SVC(), \n",
    "        'Naive-Bayes': MultinomialNB(),\n",
    "        'MLP': MLPClassifier()\n",
    "    }\n",
    "\n",
    "    param_grid = {\n",
    "        'SVM': {\n",
    "            'C': [0.1, 1, 10],  \n",
    "            'gamma': [1, 0.1, 0.01], \n",
    "            'kernel': ['rbf']\n",
    "        },\n",
    "        'Naive-Bayes': {\n",
    "            'alpha': [0.1, 0.5, 1.0],\n",
    "            'fit_prior': [True, False]\n",
    "        },\n",
    "        'MLP': {\n",
    "            'hidden_layer_sizes': [(64, 32), (32, 16), (16, 8)],\n",
    "            'learning_rate_init': [0.01, 0.1]\n",
    "        }\n",
    "    }  \n",
    "  \n",
    "    scoring_metric = 'accuracy' #'f1' if model_name == 'SVM' else 'accuracy'\n",
    "    grid = GridSearchCV(models[model_name], param_grid[model_name], scoring=scoring_metric, cv=3, verbose=3) \n",
    "    grid.fit(X_train, y_train) \n",
    "\n",
    "    return grid.best_estimator_"
   ]
  },
  {
   "cell_type": "code",
   "execution_count": 36,
   "metadata": {},
   "outputs": [
    {
     "name": "stdout",
     "output_type": "stream",
     "text": [
      "Model Building for SVM using TF-IDF feature extraction\n",
      "Fitting 3 folds for each of 9 candidates, totalling 27 fits\n",
      "[CV 1/3] END ........C=0.1, gamma=1, kernel=rbf;, score=0.565 total time=   4.5s\n",
      "[CV 2/3] END ........C=0.1, gamma=1, kernel=rbf;, score=0.583 total time=   4.5s\n",
      "[CV 3/3] END ........C=0.1, gamma=1, kernel=rbf;, score=0.584 total time=   4.4s\n",
      "[CV 1/3] END ......C=0.1, gamma=0.1, kernel=rbf;, score=0.565 total time=   4.2s\n",
      "[CV 2/3] END ......C=0.1, gamma=0.1, kernel=rbf;, score=0.545 total time=   4.4s\n",
      "[CV 3/3] END ......C=0.1, gamma=0.1, kernel=rbf;, score=0.600 total time=   4.2s\n",
      "[CV 1/3] END .....C=0.1, gamma=0.01, kernel=rbf;, score=0.441 total time=   4.2s\n",
      "[CV 2/3] END .....C=0.1, gamma=0.01, kernel=rbf;, score=0.441 total time=   4.2s\n",
      "[CV 3/3] END .....C=0.1, gamma=0.01, kernel=rbf;, score=0.441 total time=   4.1s\n",
      "[CV 1/3] END ..........C=1, gamma=1, kernel=rbf;, score=0.668 total time=   4.3s\n",
      "[CV 2/3] END ..........C=1, gamma=1, kernel=rbf;, score=0.671 total time=   4.0s\n",
      "[CV 3/3] END ..........C=1, gamma=1, kernel=rbf;, score=0.666 total time=   4.4s\n",
      "[CV 1/3] END ........C=1, gamma=0.1, kernel=rbf;, score=0.651 total time=   4.6s\n",
      "[CV 2/3] END ........C=1, gamma=0.1, kernel=rbf;, score=0.658 total time=   4.1s\n",
      "[CV 3/3] END ........C=1, gamma=0.1, kernel=rbf;, score=0.644 total time=   4.1s\n",
      "[CV 1/3] END .......C=1, gamma=0.01, kernel=rbf;, score=0.596 total time=   4.6s\n",
      "[CV 2/3] END .......C=1, gamma=0.01, kernel=rbf;, score=0.579 total time=   4.8s\n",
      "[CV 3/3] END .......C=1, gamma=0.01, kernel=rbf;, score=0.618 total time=   5.0s\n",
      "[CV 1/3] END .........C=10, gamma=1, kernel=rbf;, score=0.668 total time=   5.5s\n",
      "[CV 2/3] END .........C=10, gamma=1, kernel=rbf;, score=0.669 total time=   5.9s\n",
      "[CV 3/3] END .........C=10, gamma=1, kernel=rbf;, score=0.651 total time=   5.4s\n",
      "[CV 1/3] END .......C=10, gamma=0.1, kernel=rbf;, score=0.671 total time=   3.9s\n",
      "[CV 2/3] END .......C=10, gamma=0.1, kernel=rbf;, score=0.671 total time=   4.1s\n",
      "[CV 3/3] END .......C=10, gamma=0.1, kernel=rbf;, score=0.656 total time=   4.0s\n",
      "[CV 1/3] END ......C=10, gamma=0.01, kernel=rbf;, score=0.654 total time=   4.4s\n",
      "[CV 2/3] END ......C=10, gamma=0.01, kernel=rbf;, score=0.649 total time=   4.4s\n",
      "[CV 3/3] END ......C=10, gamma=0.01, kernel=rbf;, score=0.641 total time=   4.3s\n"
     ]
    },
    {
     "data": {
      "text/plain": [
       "<Figure size 450x300 with 0 Axes>"
      ]
     },
     "metadata": {},
     "output_type": "display_data"
    },
    {
     "data": {
      "image/png": "[encoded data removed]",
      "text/plain": [
       "<Figure size 640x480 with 2 Axes>"
      ]
     },
     "metadata": {},
     "output_type": "display_data"
    },
    {
     "name": "stdout",
     "output_type": "stream",
     "text": [
      "              precision    recall  f1-score   support\n",
      "\n",
      "    negative       0.68      0.73      0.70      1465\n",
      "     neutral       0.66      0.12      0.20       386\n",
      "    positive       0.67      0.77      0.72      1469\n",
      "\n",
      "    accuracy                           0.68      3320\n",
      "   macro avg       0.67      0.54      0.54      3320\n",
      "weighted avg       0.67      0.68      0.65      3320\n",
      "\n",
      "--------------------------------------------------------------------------------------------------------------------------------------------------------------------------------------------------------\n",
      "Model Building for SVM using Word2Vec feature extraction\n",
      "Fitting 3 folds for each of 9 candidates, totalling 27 fits\n",
      "[CV 1/3] END ........C=0.1, gamma=1, kernel=rbf;, score=0.531 total time= 1.1min\n",
      "[CV 2/3] END ........C=0.1, gamma=1, kernel=rbf;, score=0.528 total time= 1.0min\n",
      "[CV 3/3] END ........C=0.1, gamma=1, kernel=rbf;, score=0.512 total time= 1.1min\n",
      "[CV 1/3] END ......C=0.1, gamma=0.1, kernel=rbf;, score=0.507 total time= 1.1min\n",
      "[CV 2/3] END ......C=0.1, gamma=0.1, kernel=rbf;, score=0.517 total time= 1.0min\n",
      "[CV 3/3] END ......C=0.1, gamma=0.1, kernel=rbf;, score=0.511 total time= 1.4min\n",
      "[CV 1/3] END .....C=0.1, gamma=0.01, kernel=rbf;, score=0.486 total time= 1.0min\n",
      "[CV 2/3] END .....C=0.1, gamma=0.01, kernel=rbf;, score=0.497 total time= 1.0min\n",
      "[CV 3/3] END .....C=0.1, gamma=0.01, kernel=rbf;, score=0.485 total time=  57.7s\n",
      "[CV 1/3] END ..........C=1, gamma=1, kernel=rbf;, score=0.539 total time=  54.9s\n",
      "[CV 2/3] END ..........C=1, gamma=1, kernel=rbf;, score=0.534 total time=  53.4s\n",
      "[CV 3/3] END ..........C=1, gamma=1, kernel=rbf;, score=0.526 total time=  52.3s\n",
      "[CV 1/3] END ........C=1, gamma=0.1, kernel=rbf;, score=0.518 total time= 1.2min\n",
      "[CV 2/3] END ........C=1, gamma=0.1, kernel=rbf;, score=0.521 total time= 1.2min\n",
      "[CV 3/3] END ........C=1, gamma=0.1, kernel=rbf;, score=0.518 total time= 1.3min\n",
      "[CV 1/3] END .......C=1, gamma=0.01, kernel=rbf;, score=0.491 total time=  59.2s\n",
      "[CV 2/3] END .......C=1, gamma=0.01, kernel=rbf;, score=0.505 total time= 1.1min\n",
      "[CV 3/3] END .......C=1, gamma=0.01, kernel=rbf;, score=0.499 total time= 1.1min\n",
      "[CV 1/3] END .........C=10, gamma=1, kernel=rbf;, score=0.545 total time= 1.1min\n",
      "[CV 2/3] END .........C=10, gamma=1, kernel=rbf;, score=0.543 total time= 1.1min\n",
      "[CV 3/3] END .........C=10, gamma=1, kernel=rbf;, score=0.527 total time=  59.5s\n",
      "[CV 1/3] END .......C=10, gamma=0.1, kernel=rbf;, score=0.533 total time=  59.8s\n",
      "[CV 2/3] END .......C=10, gamma=0.1, kernel=rbf;, score=0.536 total time= 1.1min\n",
      "[CV 3/3] END .......C=10, gamma=0.1, kernel=rbf;, score=0.519 total time= 1.0min\n",
      "[CV 1/3] END ......C=10, gamma=0.01, kernel=rbf;, score=0.501 total time= 1.1min\n",
      "[CV 2/3] END ......C=10, gamma=0.01, kernel=rbf;, score=0.512 total time= 1.1min\n",
      "[CV 3/3] END ......C=10, gamma=0.01, kernel=rbf;, score=0.504 total time= 1.1min\n"
     ]
    },
    {
     "data": {
      "text/plain": [
       "<Figure size 640x480 with 0 Axes>"
      ]
     },
     "metadata": {},
     "output_type": "display_data"
    },
    {
     "data": {
      "text/plain": [
       "<Figure size 450x300 with 0 Axes>"
      ]
     },
     "metadata": {},
     "output_type": "display_data"
    },
    {
     "data": {
      "image/png": "[encoded data removed]",
      "text/plain": [
       "<Figure size 640x480 with 2 Axes>"
      ]
     },
     "metadata": {},
     "output_type": "display_data"
    },
    {
     "name": "stdout",
     "output_type": "stream",
     "text": [
      "              precision    recall  f1-score   support\n",
      "\n",
      "    negative       0.54      0.71      0.61      1465\n",
      "     neutral       0.61      0.09      0.16       386\n",
      "    positive       0.57      0.53      0.55      1469\n",
      "\n",
      "    accuracy                           0.55      3320\n",
      "   macro avg       0.57      0.44      0.44      3320\n",
      "weighted avg       0.56      0.55      0.53      3320\n",
      "\n",
      "--------------------------------------------------------------------------------------------------------------------------------------------------------------------------------------------------------\n",
      "Model Building for SVM using BERT feature extraction\n",
      "Fitting 3 folds for each of 9 candidates, totalling 27 fits\n",
      "[CV 1/3] END ........C=0.1, gamma=1, kernel=rbf;, score=0.459 total time=  58.2s\n",
      "[CV 2/3] END ........C=0.1, gamma=1, kernel=rbf;, score=0.455 total time=  54.5s\n",
      "[CV 3/3] END ........C=0.1, gamma=1, kernel=rbf;, score=0.457 total time=  54.3s\n",
      "[CV 1/3] END ......C=0.1, gamma=0.1, kernel=rbf;, score=0.603 total time= 1.9min\n",
      "[CV 2/3] END ......C=0.1, gamma=0.1, kernel=rbf;, score=0.606 total time= 1.2min\n",
      "[CV 3/3] END ......C=0.1, gamma=0.1, kernel=rbf;, score=0.590 total time=  43.1s\n",
      "[CV 1/3] END .....C=0.1, gamma=0.01, kernel=rbf;, score=0.661 total time= 1.4min\n",
      "[CV 2/3] END .....C=0.1, gamma=0.01, kernel=rbf;, score=0.658 total time= 1.3min\n",
      "[CV 3/3] END .....C=0.1, gamma=0.01, kernel=rbf;, score=0.633 total time= 1.3min\n",
      "[CV 1/3] END ..........C=1, gamma=1, kernel=rbf;, score=0.475 total time= 1.7min\n",
      "[CV 2/3] END ..........C=1, gamma=1, kernel=rbf;, score=0.460 total time= 2.1min\n",
      "[CV 3/3] END ..........C=1, gamma=1, kernel=rbf;, score=0.460 total time= 1.6min\n",
      "[CV 1/3] END ........C=1, gamma=0.1, kernel=rbf;, score=0.682 total time= 1.2min\n",
      "[CV 2/3] END ........C=1, gamma=0.1, kernel=rbf;, score=0.675 total time= 1.5min\n",
      "[CV 3/3] END ........C=1, gamma=0.1, kernel=rbf;, score=0.667 total time= 1.2min\n",
      "[CV 1/3] END .......C=1, gamma=0.01, kernel=rbf;, score=0.682 total time=  36.7s\n",
      "[CV 2/3] END .......C=1, gamma=0.01, kernel=rbf;, score=0.676 total time=  35.9s\n",
      "[CV 3/3] END .......C=1, gamma=0.01, kernel=rbf;, score=0.666 total time=  33.6s\n",
      "[CV 1/3] END .........C=10, gamma=1, kernel=rbf;, score=0.481 total time= 1.1min\n",
      "[CV 2/3] END .........C=10, gamma=1, kernel=rbf;, score=0.462 total time= 2.2min\n",
      "[CV 3/3] END .........C=10, gamma=1, kernel=rbf;, score=0.461 total time= 2.1min\n",
      "[CV 1/3] END .......C=10, gamma=0.1, kernel=rbf;, score=0.684 total time= 1.8min\n",
      "[CV 2/3] END .......C=10, gamma=0.1, kernel=rbf;, score=0.676 total time= 1.4min\n",
      "[CV 3/3] END .......C=10, gamma=0.1, kernel=rbf;, score=0.666 total time= 1.9min\n",
      "[CV 1/3] END ......C=10, gamma=0.01, kernel=rbf;, score=0.687 total time=  49.5s\n",
      "[CV 2/3] END ......C=10, gamma=0.01, kernel=rbf;, score=0.683 total time=  35.0s\n",
      "[CV 3/3] END ......C=10, gamma=0.01, kernel=rbf;, score=0.666 total time=  48.5s\n"
     ]
    },
    {
     "data": {
      "text/plain": [
       "<Figure size 640x480 with 0 Axes>"
      ]
     },
     "metadata": {},
     "output_type": "display_data"
    },
    {
     "data": {
      "text/plain": [
       "<Figure size 450x300 with 0 Axes>"
      ]
     },
     "metadata": {},
     "output_type": "display_data"
    },
    {
     "data": {
      "image/png": "[encoded data removed]",
      "text/plain": [
       "<Figure size 640x480 with 2 Axes>"
      ]
     },
     "metadata": {},
     "output_type": "display_data"
    },
    {
     "name": "stdout",
     "output_type": "stream",
     "text": [
      "              precision    recall  f1-score   support\n",
      "\n",
      "    negative       0.68      0.74      0.71      1465\n",
      "     neutral       0.50      0.23      0.31       386\n",
      "    positive       0.68      0.73      0.70      1469\n",
      "\n",
      "    accuracy                           0.67      3320\n",
      "   macro avg       0.62      0.56      0.57      3320\n",
      "weighted avg       0.66      0.67      0.66      3320\n",
      "\n",
      "--------------------------------------------------------------------------------------------------------------------------------------------------------------------------------------------------------\n",
      "========================================================================================================================================================================================================\n",
      "Model Building for Naive-Bayes using TF-IDF feature extraction\n",
      "Fitting 3 folds for each of 6 candidates, totalling 18 fits\n",
      "Exception occured while building naivebayes_tfidf\n",
      "Invalid parameter 'average' for estimator MultinomialNB(alpha=0.1). Valid parameters are: ['alpha', 'class_prior', 'fit_prior', 'force_alpha'].\n",
      "--------------------------------------------------------------------------------------------------------------------------------------------------------------------------------------------------------\n",
      "Model Building for Naive-Bayes using Word2Vec feature extraction\n",
      "Fitting 3 folds for each of 6 candidates, totalling 18 fits\n",
      "Exception occured while building naivebayes_word2vec\n",
      "Invalid parameter 'average' for estimator MultinomialNB(alpha=0.1). Valid parameters are: ['alpha', 'class_prior', 'fit_prior', 'force_alpha'].\n",
      "--------------------------------------------------------------------------------------------------------------------------------------------------------------------------------------------------------\n",
      "Model Building for Naive-Bayes using BERT feature extraction\n",
      "Fitting 3 folds for each of 6 candidates, totalling 18 fits\n",
      "Exception occured while building naivebayes_bert\n",
      "Invalid parameter 'average' for estimator MultinomialNB(alpha=0.1). Valid parameters are: ['alpha', 'class_prior', 'fit_prior', 'force_alpha'].\n",
      "--------------------------------------------------------------------------------------------------------------------------------------------------------------------------------------------------------\n",
      "========================================================================================================================================================================================================\n",
      "Model Building for MLP using TF-IDF feature extraction\n",
      "Fitting 3 folds for each of 6 candidates, totalling 18 fits\n",
      "[CV 1/3] END hidden_layer_sizes=(64, 32), learning_rate_init=0.01;, score=0.612 total time=   3.3s\n",
      "[CV 2/3] END hidden_layer_sizes=(64, 32), learning_rate_init=0.01;, score=0.636 total time=   7.7s\n",
      "[CV 3/3] END hidden_layer_sizes=(64, 32), learning_rate_init=0.01;, score=0.609 total time=   6.7s\n",
      "[CV 1/3] END hidden_layer_sizes=(64, 32), learning_rate_init=0.1;, score=0.599 total time=   3.0s\n",
      "[CV 2/3] END hidden_layer_sizes=(64, 32), learning_rate_init=0.1;, score=0.624 total time=   6.3s\n",
      "[CV 3/3] END hidden_layer_sizes=(64, 32), learning_rate_init=0.1;, score=0.599 total time=   5.1s\n",
      "[CV 1/3] END hidden_layer_sizes=(32, 16), learning_rate_init=0.01;, score=0.631 total time=   0.8s\n",
      "[CV 2/3] END hidden_layer_sizes=(32, 16), learning_rate_init=0.01;, score=0.626 total time=   1.2s\n",
      "[CV 3/3] END hidden_layer_sizes=(32, 16), learning_rate_init=0.01;, score=0.613 total time=   1.7s\n",
      "[CV 1/3] END hidden_layer_sizes=(32, 16), learning_rate_init=0.1;, score=0.616 total time=   1.0s\n",
      "[CV 2/3] END hidden_layer_sizes=(32, 16), learning_rate_init=0.1;, score=0.618 total time=   1.1s\n",
      "[CV 3/3] END hidden_layer_sizes=(32, 16), learning_rate_init=0.1;, score=0.604 total time=   0.8s\n",
      "[CV 1/3] END hidden_layer_sizes=(16, 8), learning_rate_init=0.01;, score=0.627 total time=   0.7s\n",
      "[CV 2/3] END hidden_layer_sizes=(16, 8), learning_rate_init=0.01;, score=0.622 total time=   0.7s\n",
      "[CV 3/3] END hidden_layer_sizes=(16, 8), learning_rate_init=0.01;, score=0.616 total time=   0.8s\n",
      "[CV 1/3] END hidden_layer_sizes=(16, 8), learning_rate_init=0.1;, score=0.610 total time=   0.8s\n",
      "[CV 2/3] END hidden_layer_sizes=(16, 8), learning_rate_init=0.1;, score=0.613 total time=   0.8s\n",
      "[CV 3/3] END hidden_layer_sizes=(16, 8), learning_rate_init=0.1;, score=0.626 total time=   0.6s\n"
     ]
    },
    {
     "data": {
      "text/plain": [
       "<Figure size 640x480 with 0 Axes>"
      ]
     },
     "metadata": {},
     "output_type": "display_data"
    },
    {
     "data": {
      "text/plain": [
       "<Figure size 450x300 with 0 Axes>"
      ]
     },
     "metadata": {},
     "output_type": "display_data"
    },
    {
     "data": {
      "image/png": "[encoded data removed]",
      "text/plain": [
       "<Figure size 640x480 with 2 Axes>"
      ]
     },
     "metadata": {},
     "output_type": "display_data"
    },
    {
     "name": "stdout",
     "output_type": "stream",
     "text": [
      "              precision    recall  f1-score   support\n",
      "\n",
      "    negative       0.67      0.60      0.63      1465\n",
      "     neutral       0.28      0.26      0.27       386\n",
      "    positive       0.63      0.71      0.67      1469\n",
      "\n",
      "    accuracy                           0.61      3320\n",
      "   macro avg       0.53      0.52      0.52      3320\n",
      "weighted avg       0.61      0.61      0.61      3320\n",
      "\n",
      "--------------------------------------------------------------------------------------------------------------------------------------------------------------------------------------------------------\n",
      "Model Building for MLP using Word2Vec feature extraction\n",
      "Fitting 3 folds for each of 6 candidates, totalling 18 fits\n",
      "[CV 1/3] END hidden_layer_sizes=(64, 32), learning_rate_init=0.01;, score=0.544 total time=  10.5s\n",
      "[CV 2/3] END hidden_layer_sizes=(64, 32), learning_rate_init=0.01;, score=0.536 total time=  12.5s\n",
      "[CV 3/3] END hidden_layer_sizes=(64, 32), learning_rate_init=0.01;, score=0.511 total time=  15.8s\n",
      "[CV 1/3] END hidden_layer_sizes=(64, 32), learning_rate_init=0.1;, score=0.441 total time=   2.5s\n",
      "[CV 2/3] END hidden_layer_sizes=(64, 32), learning_rate_init=0.1;, score=0.441 total time=   6.5s\n",
      "[CV 3/3] END hidden_layer_sizes=(64, 32), learning_rate_init=0.1;, score=0.441 total time=   6.1s\n",
      "[CV 1/3] END hidden_layer_sizes=(32, 16), learning_rate_init=0.01;, score=0.507 total time=   7.0s\n",
      "[CV 2/3] END hidden_layer_sizes=(32, 16), learning_rate_init=0.01;, score=0.541 total time=   6.9s\n",
      "[CV 3/3] END hidden_layer_sizes=(32, 16), learning_rate_init=0.01;, score=0.509 total time=  14.2s\n",
      "[CV 1/3] END hidden_layer_sizes=(32, 16), learning_rate_init=0.1;, score=0.441 total time=   3.8s\n",
      "[CV 2/3] END hidden_layer_sizes=(32, 16), learning_rate_init=0.1;, score=0.490 total time=   1.6s\n",
      "[CV 3/3] END hidden_layer_sizes=(32, 16), learning_rate_init=0.1;, score=0.441 total time=   2.9s\n",
      "[CV 1/3] END hidden_layer_sizes=(16, 8), learning_rate_init=0.01;, score=0.546 total time=   2.9s\n",
      "[CV 2/3] END hidden_layer_sizes=(16, 8), learning_rate_init=0.01;, score=0.535 total time=   2.7s\n",
      "[CV 3/3] END hidden_layer_sizes=(16, 8), learning_rate_init=0.01;, score=0.519 total time=   8.2s\n",
      "[CV 1/3] END hidden_layer_sizes=(16, 8), learning_rate_init=0.1;, score=0.441 total time=   2.3s\n",
      "[CV 2/3] END hidden_layer_sizes=(16, 8), learning_rate_init=0.1;, score=0.454 total time=   2.7s\n",
      "[CV 3/3] END hidden_layer_sizes=(16, 8), learning_rate_init=0.1;, score=0.441 total time=   2.8s\n"
     ]
    },
    {
     "data": {
      "text/plain": [
       "<Figure size 640x480 with 0 Axes>"
      ]
     },
     "metadata": {},
     "output_type": "display_data"
    },
    {
     "data": {
      "text/plain": [
       "<Figure size 450x300 with 0 Axes>"
      ]
     },
     "metadata": {},
     "output_type": "display_data"
    },
    {
     "data": {
      "image/png": "[encoded data removed]",
      "text/plain": [
       "<Figure size 640x480 with 2 Axes>"
      ]
     },
     "metadata": {},
     "output_type": "display_data"
    },
    {
     "name": "stdout",
     "output_type": "stream",
     "text": [
      "              precision    recall  f1-score   support\n",
      "\n",
      "    negative       0.62      0.24      0.35      1465\n",
      "     neutral       0.64      0.08      0.15       386\n",
      "    positive       0.49      0.91      0.64      1469\n",
      "\n",
      "    accuracy                           0.52      3320\n",
      "   macro avg       0.59      0.41      0.38      3320\n",
      "weighted avg       0.57      0.52      0.45      3320\n",
      "\n",
      "--------------------------------------------------------------------------------------------------------------------------------------------------------------------------------------------------------\n",
      "Model Building for MLP using BERT feature extraction\n",
      "Fitting 3 folds for each of 6 candidates, totalling 18 fits\n",
      "[CV 1/3] END hidden_layer_sizes=(64, 32), learning_rate_init=0.01;, score=0.614 total time=  10.2s\n",
      "[CV 2/3] END hidden_layer_sizes=(64, 32), learning_rate_init=0.01;, score=0.629 total time=  13.1s\n",
      "[CV 3/3] END hidden_layer_sizes=(64, 32), learning_rate_init=0.01;, score=0.615 total time=  12.6s\n",
      "[CV 1/3] END hidden_layer_sizes=(64, 32), learning_rate_init=0.1;, score=0.657 total time=  15.6s\n",
      "[CV 2/3] END hidden_layer_sizes=(64, 32), learning_rate_init=0.1;, score=0.636 total time=  38.8s\n",
      "[CV 3/3] END hidden_layer_sizes=(64, 32), learning_rate_init=0.1;, score=0.587 total time=  45.8s\n",
      "[CV 1/3] END hidden_layer_sizes=(32, 16), learning_rate_init=0.01;, score=0.620 total time=  10.0s\n",
      "[CV 2/3] END hidden_layer_sizes=(32, 16), learning_rate_init=0.01;, score=0.618 total time=  10.5s\n",
      "[CV 3/3] END hidden_layer_sizes=(32, 16), learning_rate_init=0.01;, score=0.604 total time=   7.8s\n",
      "[CV 1/3] END hidden_layer_sizes=(32, 16), learning_rate_init=0.1;, score=0.441 total time=   1.9s\n",
      "[CV 2/3] END hidden_layer_sizes=(32, 16), learning_rate_init=0.1;, score=0.441 total time=   2.4s\n",
      "[CV 3/3] END hidden_layer_sizes=(32, 16), learning_rate_init=0.1;, score=0.640 total time=  27.8s\n",
      "[CV 1/3] END hidden_layer_sizes=(16, 8), learning_rate_init=0.01;, score=0.621 total time=   8.2s\n",
      "[CV 2/3] END hidden_layer_sizes=(16, 8), learning_rate_init=0.01;, score=0.620 total time=  26.4s\n",
      "[CV 3/3] END hidden_layer_sizes=(16, 8), learning_rate_init=0.01;, score=0.593 total time=   5.8s\n",
      "[CV 1/3] END hidden_layer_sizes=(16, 8), learning_rate_init=0.1;, score=0.441 total time=   0.6s\n",
      "[CV 2/3] END hidden_layer_sizes=(16, 8), learning_rate_init=0.1;, score=0.441 total time=   0.4s\n",
      "[CV 3/3] END hidden_layer_sizes=(16, 8), learning_rate_init=0.1;, score=0.634 total time=   6.9s\n"
     ]
    },
    {
     "data": {
      "text/plain": [
       "<Figure size 640x480 with 0 Axes>"
      ]
     },
     "metadata": {},
     "output_type": "display_data"
    },
    {
     "data": {
      "text/plain": [
       "<Figure size 450x300 with 0 Axes>"
      ]
     },
     "metadata": {},
     "output_type": "display_data"
    },
    {
     "data": {
      "image/png": "[encoded data removed]",
      "text/plain": [
       "<Figure size 640x480 with 2 Axes>"
      ]
     },
     "metadata": {},
     "output_type": "display_data"
    },
    {
     "name": "stdout",
     "output_type": "stream",
     "text": [
      "              precision    recall  f1-score   support\n",
      "\n",
      "    negative       0.65      0.77      0.70      1465\n",
      "     neutral       0.00      0.00      0.00       386\n",
      "    positive       0.67      0.72      0.69      1469\n",
      "\n",
      "    accuracy                           0.66      3320\n",
      "   macro avg       0.44      0.50      0.46      3320\n",
      "weighted avg       0.58      0.66      0.62      3320\n",
      "\n",
      "--------------------------------------------------------------------------------------------------------------------------------------------------------------------------------------------------------\n",
      "========================================================================================================================================================================================================\n"
     ]
    },
    {
     "name": "stderr",
     "output_type": "stream",
     "text": [
      "c:\\Users\\infor\\Documents\\AAIML\\local_repo\\venv\\pytorch_gpu\\Lib\\site-packages\\sklearn\\metrics\\_classification.py:1471: UndefinedMetricWarning: Precision and F-score are ill-defined and being set to 0.0 in labels with no predicted samples. Use `zero_division` parameter to control this behavior.\n",
      "  _warn_prf(average, modifier, msg_start, len(result))\n",
      "c:\\Users\\infor\\Documents\\AAIML\\local_repo\\venv\\pytorch_gpu\\Lib\\site-packages\\sklearn\\metrics\\_classification.py:1471: UndefinedMetricWarning: Precision and F-score are ill-defined and being set to 0.0 in labels with no predicted samples. Use `zero_division` parameter to control this behavior.\n",
      "  _warn_prf(average, modifier, msg_start, len(result))\n",
      "c:\\Users\\infor\\Documents\\AAIML\\local_repo\\venv\\pytorch_gpu\\Lib\\site-packages\\sklearn\\metrics\\_classification.py:1471: UndefinedMetricWarning: Precision and F-score are ill-defined and being set to 0.0 in labels with no predicted samples. Use `zero_division` parameter to control this behavior.\n",
      "  _warn_prf(average, modifier, msg_start, len(result))\n",
      "c:\\Users\\infor\\Documents\\AAIML\\local_repo\\venv\\pytorch_gpu\\Lib\\site-packages\\sklearn\\metrics\\_classification.py:1471: UndefinedMetricWarning: Precision is ill-defined and being set to 0.0 in labels with no predicted samples. Use `zero_division` parameter to control this behavior.\n",
      "  _warn_prf(average, modifier, msg_start, len(result))\n"
     ]
    },
    {
     "data": {
      "text/plain": [
       "<Figure size 640x480 with 0 Axes>"
      ]
     },
     "metadata": {},
     "output_type": "display_data"
    }
   ],
   "source": [
    "metrics = []\n",
    "for model_name in ['SVM', 'Naive-Bayes', 'MLP']:\n",
    "    for featuring_name, X_train_features, X_test_features in [\n",
    "        ('TF-IDF', X_train_tfidf, X_test_tfidf),\n",
    "        ('Word2Vec', X_train_word2vec, X_test_word2vec),\n",
    "        ('BERT', X_train_bert, X_test_bert)\n",
    "    ]:\n",
    "        print(f'Model Building for {model_name} using {featuring_name} feature extraction')\n",
    "        model_full_name = model_name + '_' + featuring_name\n",
    "        model_full_name = model_full_name.replace('-', '').lower()\n",
    "\n",
    "        try:\n",
    "            model = build_model(X_train_features, y_train, model_name)\n",
    "            \n",
    "            with open(os.path.join(pickle_folder, f'{model_full_name}.pickle'), 'wb') as fo:\n",
    "                pickle.dump(model, fo)\n",
    "            \n",
    "            y_pred = model.predict(X_test_features)\n",
    "            show_metrics(y_test, y_pred, model_full_name)\n",
    "            metrics.append({\n",
    "                'Model': model_name,\n",
    "                'Feature': featuring_name,\n",
    "                'Accuracy': accuracy_score(y_test, y_pred),\n",
    "                'F1_Score': f1_score(y_test, y_pred, average='weighted'),\n",
    "                'Precision': precision_score(y_test, y_pred, average='weighted'),\n",
    "                'Recall': recall_score(y_test, y_pred, average='weighted')\n",
    "            })\n",
    "        except Exception as e:\n",
    "            print(f'Exception occured while building {model_full_name}\\n{e}')\n",
    "        print('-' * 200)\n",
    "    print('=' * 200)"
   ]
  },
  {
   "cell_type": "code",
   "execution_count": 38,
   "metadata": {},
   "outputs": [
    {
     "data": {
      "text/plain": [
       "[{'Model': 'SVM',\n",
       "  'Feature': 'TF-IDF',\n",
       "  'Accuracy': 0.6759036144578313,\n",
       "  'F1_Score': 0.6515372682154523,\n",
       "  'Precision': 0.6742817458280368,\n",
       "  'Recall': 0.6759036144578313},\n",
       " {'Model': 'SVM',\n",
       "  'Feature': 'Word2Vec',\n",
       "  'Accuracy': 0.5548192771084337,\n",
       "  'F1_Score': 0.5314704822871515,\n",
       "  'Precision': 0.5628532097096547,\n",
       "  'Recall': 0.5548192771084337},\n",
       " {'Model': 'SVM',\n",
       "  'Feature': 'BERT',\n",
       "  'Accuracy': 0.6725903614457831,\n",
       "  'F1_Score': 0.6600017429740271,\n",
       "  'Precision': 0.6608318463258314,\n",
       "  'Recall': 0.6725903614457831},\n",
       " {'Model': 'MLP',\n",
       "  'Feature': 'TF-IDF',\n",
       "  'Accuracy': 0.6078313253012049,\n",
       "  'F1_Score': 0.6055576179255558,\n",
       "  'Precision': 0.6071391892685131,\n",
       "  'Recall': 0.6078313253012049},\n",
       " {'Model': 'MLP',\n",
       "  'Feature': 'Word2Vec',\n",
       "  'Accuracy': 0.5171686746987951,\n",
       "  'F1_Score': 0.45333599161006777,\n",
       "  'Precision': 0.5671899997651424,\n",
       "  'Recall': 0.5171686746987951},\n",
       " {'Model': 'MLP',\n",
       "  'Feature': 'BERT',\n",
       "  'Accuracy': 0.6566265060240963,\n",
       "  'F1_Score': 0.615960284849616,\n",
       "  'Precision': 0.5807400679185817,\n",
       "  'Recall': 0.6566265060240963}]"
      ]
     },
     "execution_count": 38,
     "metadata": {},
     "output_type": "execute_result"
    }
   ],
   "source": [
    "metrics"
   ]
  },
  {
   "cell_type": "code",
   "execution_count": 40,
   "metadata": {},
   "outputs": [
    {
     "name": "stdout",
     "output_type": "stream",
     "text": [
      "Model Building for Naive-Bayes using TF-IDF feature extraction\n",
      "Fitting 3 folds for each of 6 candidates, totalling 18 fits\n",
      "[CV 1/3] END .........alpha=0.1, fit_prior=True;, score=0.612 total time=   0.0s\n",
      "[CV 2/3] END .........alpha=0.1, fit_prior=True;, score=0.599 total time=   0.0s\n",
      "[CV 3/3] END .........alpha=0.1, fit_prior=True;, score=0.591 total time=   0.0s\n",
      "[CV 1/3] END ........alpha=0.1, fit_prior=False;, score=0.543 total time=   0.0s\n",
      "[CV 2/3] END ........alpha=0.1, fit_prior=False;, score=0.540 total time=   0.0s\n",
      "[CV 3/3] END ........alpha=0.1, fit_prior=False;, score=0.530 total time=   0.0s\n",
      "[CV 1/3] END .........alpha=0.5, fit_prior=True;, score=0.603 total time=   0.0s\n",
      "[CV 2/3] END .........alpha=0.5, fit_prior=True;, score=0.600 total time=   0.0s\n",
      "[CV 3/3] END .........alpha=0.5, fit_prior=True;, score=0.588 total time=   0.0s\n",
      "[CV 1/3] END ........alpha=0.5, fit_prior=False;, score=0.535 total time=   0.0s\n",
      "[CV 2/3] END ........alpha=0.5, fit_prior=False;, score=0.529 total time=   0.0s\n",
      "[CV 3/3] END ........alpha=0.5, fit_prior=False;, score=0.523 total time=   0.0s\n",
      "[CV 1/3] END .........alpha=1.0, fit_prior=True;, score=0.599 total time=   0.0s\n",
      "[CV 2/3] END .........alpha=1.0, fit_prior=True;, score=0.594 total time=   0.0s\n",
      "[CV 3/3] END .........alpha=1.0, fit_prior=True;, score=0.583 total time=   0.0s\n",
      "[CV 1/3] END ........alpha=1.0, fit_prior=False;, score=0.533 total time=   0.0s\n",
      "[CV 2/3] END ........alpha=1.0, fit_prior=False;, score=0.529 total time=   0.0s\n",
      "[CV 3/3] END ........alpha=1.0, fit_prior=False;, score=0.520 total time=   0.0s\n"
     ]
    },
    {
     "data": {
      "text/plain": [
       "<Figure size 450x300 with 0 Axes>"
      ]
     },
     "metadata": {},
     "output_type": "display_data"
    },
    {
     "data": {
      "image/png": "[encoded data removed]",
      "text/plain": [
       "<Figure size 640x480 with 2 Axes>"
      ]
     },
     "metadata": {},
     "output_type": "display_data"
    },
    {
     "name": "stdout",
     "output_type": "stream",
     "text": [
      "              precision    recall  f1-score   support\n",
      "\n",
      "    negative       0.62      0.58      0.60      1465\n",
      "     neutral       0.57      0.06      0.11       386\n",
      "    positive       0.59      0.76      0.67      1469\n",
      "\n",
      "    accuracy                           0.60      3320\n",
      "   macro avg       0.59      0.47      0.46      3320\n",
      "weighted avg       0.60      0.60      0.57      3320\n",
      "\n",
      "--------------------------------------------------------------------------------------------------------------------------------------------------------------------------------------------------------\n",
      "Model Building for Naive-Bayes using Word2Vec feature extraction\n",
      "Fitting 3 folds for each of 6 candidates, totalling 18 fits\n",
      "[CV 1/3] END ...........alpha=0.1, fit_prior=True;, score=nan total time=   0.0s\n",
      "[CV 2/3] END ...........alpha=0.1, fit_prior=True;, score=nan total time=   0.0s\n",
      "[CV 3/3] END ...........alpha=0.1, fit_prior=True;, score=nan total time=   0.0s\n",
      "[CV 1/3] END ..........alpha=0.1, fit_prior=False;, score=nan total time=   0.0s\n",
      "[CV 2/3] END ..........alpha=0.1, fit_prior=False;, score=nan total time=   0.0s\n",
      "[CV 3/3] END ..........alpha=0.1, fit_prior=False;, score=nan total time=   0.0s\n",
      "[CV 1/3] END ...........alpha=0.5, fit_prior=True;, score=nan total time=   0.0s\n",
      "[CV 2/3] END ...........alpha=0.5, fit_prior=True;, score=nan total time=   0.0s\n",
      "[CV 3/3] END ...........alpha=0.5, fit_prior=True;, score=nan total time=   0.0s\n",
      "[CV 1/3] END ..........alpha=0.5, fit_prior=False;, score=nan total time=   0.0s\n",
      "[CV 2/3] END ..........alpha=0.5, fit_prior=False;, score=nan total time=   0.0s\n",
      "[CV 3/3] END ..........alpha=0.5, fit_prior=False;, score=nan total time=   0.0s\n",
      "[CV 1/3] END ...........alpha=1.0, fit_prior=True;, score=nan total time=   0.0s\n",
      "[CV 2/3] END ...........alpha=1.0, fit_prior=True;, score=nan total time=   0.0s\n",
      "[CV 3/3] END ...........alpha=1.0, fit_prior=True;, score=nan total time=   0.0s\n",
      "[CV 1/3] END ..........alpha=1.0, fit_prior=False;, score=nan total time=   0.0s\n",
      "[CV 2/3] END ..........alpha=1.0, fit_prior=False;, score=nan total time=   0.0s\n",
      "[CV 3/3] END ..........alpha=1.0, fit_prior=False;, score=nan total time=   0.0s\n",
      "Exception occured while building naivebayes_word2vec\n",
      "\n",
      "All the 18 fits failed.\n",
      "It is very likely that your model is misconfigured.\n",
      "You can try to debug the error by setting error_score='raise'.\n",
      "\n",
      "Below are more details about the failures:\n",
      "--------------------------------------------------------------------------------\n",
      "18 fits failed with the following error:\n",
      "Traceback (most recent call last):\n",
      "  File \"c:\\Users\\infor\\Documents\\AAIML\\local_repo\\venv\\pytorch_gpu\\Lib\\site-packages\\sklearn\\model_selection\\_validation.py\", line 729, in _fit_and_score\n",
      "    estimator.fit(X_train, y_train, **fit_params)\n",
      "  File \"c:\\Users\\infor\\Documents\\AAIML\\local_repo\\venv\\pytorch_gpu\\Lib\\site-packages\\sklearn\\base.py\", line 1152, in wrapper\n",
      "    return fit_method(estimator, *args, **kwargs)\n",
      "           ^^^^^^^^^^^^^^^^^^^^^^^^^^^^^^^^^^^^^^\n",
      "  File \"c:\\Users\\infor\\Documents\\AAIML\\local_repo\\venv\\pytorch_gpu\\Lib\\site-packages\\sklearn\\naive_bayes.py\", line 772, in fit\n",
      "    self._count(X, Y)\n",
      "  File \"c:\\Users\\infor\\Documents\\AAIML\\local_repo\\venv\\pytorch_gpu\\Lib\\site-packages\\sklearn\\naive_bayes.py\", line 894, in _count\n",
      "    check_non_negative(X, \"MultinomialNB (input X)\")\n",
      "  File \"c:\\Users\\infor\\Documents\\AAIML\\local_repo\\venv\\pytorch_gpu\\Lib\\site-packages\\sklearn\\utils\\validation.py\", line 1489, in check_non_negative\n",
      "    raise ValueError(\"Negative values in data passed to %s\" % whom)\n",
      "ValueError: Negative values in data passed to MultinomialNB (input X)\n",
      "\n",
      "--------------------------------------------------------------------------------------------------------------------------------------------------------------------------------------------------------\n",
      "Model Building for Naive-Bayes using BERT feature extraction\n",
      "Fitting 3 folds for each of 6 candidates, totalling 18 fits\n",
      "[CV 1/3] END ...........alpha=0.1, fit_prior=True;, score=nan total time=   0.0s\n",
      "[CV 2/3] END ...........alpha=0.1, fit_prior=True;, score=nan total time=   0.0s\n",
      "[CV 3/3] END ...........alpha=0.1, fit_prior=True;, score=nan total time=   0.0s\n",
      "[CV 1/3] END ..........alpha=0.1, fit_prior=False;, score=nan total time=   0.0s\n",
      "[CV 2/3] END ..........alpha=0.1, fit_prior=False;, score=nan total time=   0.0s\n",
      "[CV 3/3] END ..........alpha=0.1, fit_prior=False;, score=nan total time=   0.0s\n",
      "[CV 1/3] END ...........alpha=0.5, fit_prior=True;, score=nan total time=   0.0s\n",
      "[CV 2/3] END ...........alpha=0.5, fit_prior=True;, score=nan total time=   0.0s\n",
      "[CV 3/3] END ...........alpha=0.5, fit_prior=True;, score=nan total time=   0.0s\n",
      "[CV 1/3] END ..........alpha=0.5, fit_prior=False;, score=nan total time=   0.0s\n",
      "[CV 2/3] END ..........alpha=0.5, fit_prior=False;, score=nan total time=   0.0s\n",
      "[CV 3/3] END ..........alpha=0.5, fit_prior=False;, score=nan total time=   0.0s\n",
      "[CV 1/3] END ...........alpha=1.0, fit_prior=True;, score=nan total time=   0.0s\n",
      "[CV 2/3] END ...........alpha=1.0, fit_prior=True;, score=nan total time=   0.0s\n",
      "[CV 3/3] END ...........alpha=1.0, fit_prior=True;, score=nan total time=   0.0s\n",
      "[CV 1/3] END ..........alpha=1.0, fit_prior=False;, score=nan total time=   0.0s\n",
      "[CV 2/3] END ..........alpha=1.0, fit_prior=False;, score=nan total time=   0.0s\n",
      "[CV 3/3] END ..........alpha=1.0, fit_prior=False;, score=nan total time=   0.0s\n",
      "Exception occured while building naivebayes_bert\n",
      "\n",
      "All the 18 fits failed.\n",
      "It is very likely that your model is misconfigured.\n",
      "You can try to debug the error by setting error_score='raise'.\n",
      "\n",
      "Below are more details about the failures:\n",
      "--------------------------------------------------------------------------------\n",
      "18 fits failed with the following error:\n",
      "Traceback (most recent call last):\n",
      "  File \"c:\\Users\\infor\\Documents\\AAIML\\local_repo\\venv\\pytorch_gpu\\Lib\\site-packages\\sklearn\\model_selection\\_validation.py\", line 729, in _fit_and_score\n",
      "    estimator.fit(X_train, y_train, **fit_params)\n",
      "  File \"c:\\Users\\infor\\Documents\\AAIML\\local_repo\\venv\\pytorch_gpu\\Lib\\site-packages\\sklearn\\base.py\", line 1152, in wrapper\n",
      "    return fit_method(estimator, *args, **kwargs)\n",
      "           ^^^^^^^^^^^^^^^^^^^^^^^^^^^^^^^^^^^^^^\n",
      "  File \"c:\\Users\\infor\\Documents\\AAIML\\local_repo\\venv\\pytorch_gpu\\Lib\\site-packages\\sklearn\\naive_bayes.py\", line 772, in fit\n",
      "    self._count(X, Y)\n",
      "  File \"c:\\Users\\infor\\Documents\\AAIML\\local_repo\\venv\\pytorch_gpu\\Lib\\site-packages\\sklearn\\naive_bayes.py\", line 894, in _count\n",
      "    check_non_negative(X, \"MultinomialNB (input X)\")\n",
      "  File \"c:\\Users\\infor\\Documents\\AAIML\\local_repo\\venv\\pytorch_gpu\\Lib\\site-packages\\sklearn\\utils\\validation.py\", line 1489, in check_non_negative\n",
      "    raise ValueError(\"Negative values in data passed to %s\" % whom)\n",
      "ValueError: Negative values in data passed to MultinomialNB (input X)\n",
      "\n",
      "--------------------------------------------------------------------------------------------------------------------------------------------------------------------------------------------------------\n",
      "========================================================================================================================================================================================================\n"
     ]
    },
    {
     "data": {
      "text/plain": [
       "<Figure size 640x480 with 0 Axes>"
      ]
     },
     "metadata": {},
     "output_type": "display_data"
    }
   ],
   "source": [
    "for model_name in ['Naive-Bayes']:\n",
    "    for featuring_name, X_train_features, X_test_features in [\n",
    "        ('TF-IDF', X_train_tfidf, X_test_tfidf),\n",
    "        ('Word2Vec', X_train_word2vec, X_test_word2vec),\n",
    "        ('BERT', X_train_bert, X_test_bert)\n",
    "    ]:\n",
    "        print(f'Model Building for {model_name} using {featuring_name} feature extraction')\n",
    "        model_full_name = model_name + '_' + featuring_name\n",
    "        model_full_name = model_full_name.replace('-', '').lower()\n",
    "\n",
    "        try:\n",
    "            model = build_model(X_train_features, y_train, model_name)\n",
    "            \n",
    "            with open(os.path.join(pickle_folder, f'{model_full_name}.pickle'), 'wb') as fo:\n",
    "                pickle.dump(model, fo)\n",
    "            \n",
    "            y_pred = model.predict(X_test_features)\n",
    "            show_metrics(y_test, y_pred, model_full_name)\n",
    "            metrics.append({\n",
    "                'Model': model_name,\n",
    "                'Feature': featuring_name,\n",
    "                'Accuracy': accuracy_score(y_test, y_pred),\n",
    "                'F1_Score': f1_score(y_test, y_pred, average='weighted'),\n",
    "                'Precision': precision_score(y_test, y_pred, average='weighted'),\n",
    "                'Recall': recall_score(y_test, y_pred, average='weighted')\n",
    "            })\n",
    "        except Exception as e:\n",
    "            print(f'Exception occured while building {model_full_name}\\n{e}')\n",
    "        print('-' * 200)\n",
    "    print('=' * 200)"
   ]
  },
  {
   "cell_type": "code",
   "execution_count": 41,
   "metadata": {},
   "outputs": [
    {
     "data": {
      "text/plain": [
       "[{'Model': 'SVM',\n",
       "  'Feature': 'TF-IDF',\n",
       "  'Accuracy': 0.6759036144578313,\n",
       "  'F1_Score': 0.6515372682154523,\n",
       "  'Precision': 0.6742817458280368,\n",
       "  'Recall': 0.6759036144578313},\n",
       " {'Model': 'SVM',\n",
       "  'Feature': 'Word2Vec',\n",
       "  'Accuracy': 0.5548192771084337,\n",
       "  'F1_Score': 0.5314704822871515,\n",
       "  'Precision': 0.5628532097096547,\n",
       "  'Recall': 0.5548192771084337},\n",
       " {'Model': 'SVM',\n",
       "  'Feature': 'BERT',\n",
       "  'Accuracy': 0.6725903614457831,\n",
       "  'F1_Score': 0.6600017429740271,\n",
       "  'Precision': 0.6608318463258314,\n",
       "  'Recall': 0.6725903614457831},\n",
       " {'Model': 'MLP',\n",
       "  'Feature': 'TF-IDF',\n",
       "  'Accuracy': 0.6078313253012049,\n",
       "  'F1_Score': 0.6055576179255558,\n",
       "  'Precision': 0.6071391892685131,\n",
       "  'Recall': 0.6078313253012049},\n",
       " {'Model': 'MLP',\n",
       "  'Feature': 'Word2Vec',\n",
       "  'Accuracy': 0.5171686746987951,\n",
       "  'F1_Score': 0.45333599161006777,\n",
       "  'Precision': 0.5671899997651424,\n",
       "  'Recall': 0.5171686746987951},\n",
       " {'Model': 'MLP',\n",
       "  'Feature': 'BERT',\n",
       "  'Accuracy': 0.6566265060240963,\n",
       "  'F1_Score': 0.615960284849616,\n",
       "  'Precision': 0.5807400679185817,\n",
       "  'Recall': 0.6566265060240963},\n",
       " {'Model': 'Naive-Bayes',\n",
       "  'Feature': 'TF-IDF',\n",
       "  'Accuracy': 0.6012048192771084,\n",
       "  'F1_Score': 0.5713139776892697,\n",
       "  'Precision': 0.6004637453220646,\n",
       "  'Recall': 0.6012048192771084}]"
      ]
     },
     "execution_count": 41,
     "metadata": {},
     "output_type": "execute_result"
    }
   ],
   "source": [
    "metrics"
   ]
  },
  {
   "cell_type": "code",
   "execution_count": 42,
   "metadata": {},
   "outputs": [],
   "source": [
    "df_metrics = pd.DataFrame(metrics)"
   ]
  },
  {
   "cell_type": "code",
   "execution_count": 43,
   "metadata": {},
   "outputs": [
    {
     "data": {
      "text/html": [
       "<div>\n",
       "<style scoped>\n",
       "    .dataframe tbody tr th:only-of-type {\n",
       "        vertical-align: middle;\n",
       "    }\n",
       "\n",
       "    .dataframe tbody tr th {\n",
       "        vertical-align: top;\n",
       "    }\n",
       "\n",
       "    .dataframe thead th {\n",
       "        text-align: right;\n",
       "    }\n",
       "</style>\n",
       "<table border=\"1\" class=\"dataframe\">\n",
       "  <thead>\n",
       "    <tr style=\"text-align: right;\">\n",
       "      <th></th>\n",
       "      <th>Model</th>\n",
       "      <th>Feature</th>\n",
       "      <th>Accuracy</th>\n",
       "      <th>F1_Score</th>\n",
       "      <th>Precision</th>\n",
       "      <th>Recall</th>\n",
       "    </tr>\n",
       "  </thead>\n",
       "  <tbody>\n",
       "    <tr>\n",
       "      <th>0</th>\n",
       "      <td>SVM</td>\n",
       "      <td>TF-IDF</td>\n",
       "      <td>0.675904</td>\n",
       "      <td>0.651537</td>\n",
       "      <td>0.674282</td>\n",
       "      <td>0.675904</td>\n",
       "    </tr>\n",
       "    <tr>\n",
       "      <th>1</th>\n",
       "      <td>SVM</td>\n",
       "      <td>Word2Vec</td>\n",
       "      <td>0.554819</td>\n",
       "      <td>0.531470</td>\n",
       "      <td>0.562853</td>\n",
       "      <td>0.554819</td>\n",
       "    </tr>\n",
       "    <tr>\n",
       "      <th>2</th>\n",
       "      <td>SVM</td>\n",
       "      <td>BERT</td>\n",
       "      <td>0.672590</td>\n",
       "      <td>0.660002</td>\n",
       "      <td>0.660832</td>\n",
       "      <td>0.672590</td>\n",
       "    </tr>\n",
       "    <tr>\n",
       "      <th>3</th>\n",
       "      <td>MLP</td>\n",
       "      <td>TF-IDF</td>\n",
       "      <td>0.607831</td>\n",
       "      <td>0.605558</td>\n",
       "      <td>0.607139</td>\n",
       "      <td>0.607831</td>\n",
       "    </tr>\n",
       "    <tr>\n",
       "      <th>4</th>\n",
       "      <td>MLP</td>\n",
       "      <td>Word2Vec</td>\n",
       "      <td>0.517169</td>\n",
       "      <td>0.453336</td>\n",
       "      <td>0.567190</td>\n",
       "      <td>0.517169</td>\n",
       "    </tr>\n",
       "    <tr>\n",
       "      <th>5</th>\n",
       "      <td>MLP</td>\n",
       "      <td>BERT</td>\n",
       "      <td>0.656627</td>\n",
       "      <td>0.615960</td>\n",
       "      <td>0.580740</td>\n",
       "      <td>0.656627</td>\n",
       "    </tr>\n",
       "    <tr>\n",
       "      <th>6</th>\n",
       "      <td>Naive-Bayes</td>\n",
       "      <td>TF-IDF</td>\n",
       "      <td>0.601205</td>\n",
       "      <td>0.571314</td>\n",
       "      <td>0.600464</td>\n",
       "      <td>0.601205</td>\n",
       "    </tr>\n",
       "  </tbody>\n",
       "</table>\n",
       "</div>"
      ],
      "text/plain": [
       "         Model   Feature  Accuracy  F1_Score  Precision    Recall\n",
       "0          SVM    TF-IDF  0.675904  0.651537   0.674282  0.675904\n",
       "1          SVM  Word2Vec  0.554819  0.531470   0.562853  0.554819\n",
       "2          SVM      BERT  0.672590  0.660002   0.660832  0.672590\n",
       "3          MLP    TF-IDF  0.607831  0.605558   0.607139  0.607831\n",
       "4          MLP  Word2Vec  0.517169  0.453336   0.567190  0.517169\n",
       "5          MLP      BERT  0.656627  0.615960   0.580740  0.656627\n",
       "6  Naive-Bayes    TF-IDF  0.601205  0.571314   0.600464  0.601205"
      ]
     },
     "execution_count": 43,
     "metadata": {},
     "output_type": "execute_result"
    }
   ],
   "source": [
    "df_metrics"
   ]
  },
  {
   "cell_type": "markdown",
   "metadata": {},
   "source": [
    "## Model Deployment"
   ]
  },
  {
   "cell_type": "code",
   "execution_count": 44,
   "metadata": {},
   "outputs": [],
   "source": [
    "final_model_name = 'svm_bert'\n",
    "with open(os.path.join(pickle_folder, f'{final_model_name}.pickle'), 'rb') as fo:\n",
    "    final_model = pickle.load(fo)\n",
    "\n",
    "with open(os.path.join(pickle_folder, f'final_model.pickle'), 'wb') as fo:\n",
    "    pickle.dump(final_model, fo)"
   ]
  },
  {
   "cell_type": "code",
   "execution_count": null,
   "metadata": {},
   "outputs": [],
   "source": [
    "X_test_bert = get_bert_embeddings(X_test.to_list())"
   ]
  },
  {
   "cell_type": "markdown",
   "metadata": {},
   "source": [
    "## Interface"
   ]
  },
  {
   "cell_type": "code",
   "execution_count": 49,
   "metadata": {},
   "outputs": [],
   "source": [
    "import tkinter as tk\n",
    "from tkinter import simpledialog"
   ]
  },
  {
   "cell_type": "code",
   "execution_count": 47,
   "metadata": {},
   "outputs": [],
   "source": [
    "with open(os.path.join(pickle_folder, 'bert_tokenizer.pickle'), 'rb') as fo:\n",
    "    tokenizer = pickle.load( fo)\n",
    "\n",
    "with open(os.path.join(pickle_folder, 'bert_model.pickle'), 'rb') as fo:\n",
    "    model = pickle.load(fo)"
   ]
  },
  {
   "cell_type": "markdown",
   "metadata": {},
   "source": [
    "Testing the final model"
   ]
  },
  {
   "cell_type": "code",
   "execution_count": 48,
   "metadata": {},
   "outputs": [
    {
     "name": "stdout",
     "output_type": "stream",
     "text": [
      "['neutral']\n"
     ]
    }
   ],
   "source": [
    "user_input = \"The gov funds billions in medicine research. How the gov don't have partial ownership on those patents blows my mind.\"\n",
    "processed_input = preprocess_text(user_input)\n",
    "X_test = get_bert_embeddings([processed_input])\n",
    "sentiment = final_model.predict(X_test)\n",
    "print(sentiment)"
   ]
  },
  {
   "cell_type": "code",
   "execution_count": 50,
   "metadata": {},
   "outputs": [],
   "source": [
    "def submit_function():\n",
    "\n",
    "    # Get user input from the Text widget\n",
    "    # user_input = entry.get(\"1.0\", tk.END).strip()\n",
    "    #display_label.config('processing')\n",
    "    # processed_input = preprocess_text(user_input)\n",
    "    # display_label.config('vectorizing')\n",
    "    # X_test = tfidf_vectorizer.transform(processed_input)\n",
    "    # #X_test = get_word2vec_embeddings(processed_input)\n",
    "    # display_label.config('predicting')\n",
    "    # sentiment = final_model.predict(X_test)\n",
    "\n",
    "    # # Display the prediction result in the label\n",
    "    # result = f\"Sentiment: {sentiment}\"\n",
    "    # display_label.config(text=result)\n",
    "\n",
    "    user_input = entry.get(\"1.0\", tk.END).strip()\n",
    "\n",
    "    #prediction = 'Test'\n",
    "    \n",
    "    processed_input = preprocess_text(user_input)\n",
    "    X_test = get_bert_embeddings([processed_input])\n",
    "    sentiment = final_model.predict(X_test)\n",
    "    \n",
    "    result = f\"Sentiment: {sentiment[0]}\"\n",
    "    display_label.config(text=result)\n",
    "\n",
    "def clear_input():\n",
    "    entry.delete(\"1.0\", tk.END)\n",
    "    display_label.config(text=\"\")\n",
    "\n",
    "\n",
    "# Creating the main window\n",
    "root = tk.Tk()\n",
    "root.title(\"Sentiment Analysis\")\n",
    "\n",
    "# Setting the size of the window (width x height)\n",
    "root.geometry(\"500x300\")\n",
    "\n",
    "# Creating  multi-line user input box\n",
    "entry = tk.Text(root, width=60, height=5)\n",
    "entry.pack(pady=10)\n",
    "\n",
    "# Creating the clear and submit buttons\n",
    "submit_button = tk.Button(root, text=\"Submit\", command=submit_function)\n",
    "submit_button.pack(side=tk.RIGHT, padx=6, anchor=tk.N, pady=(5, 0))  # Adjusted padding\n",
    "\n",
    "clear_button = tk.Button(root, text=\"Clear\", command=clear_input)\n",
    "clear_button.pack(side=tk.RIGHT, padx=6, anchor=tk.N, pady=(5, 0))  # Adjusted padding\n",
    "\n",
    "display_label = tk.Label(root, text=\"\")\n",
    "display_label.pack(pady=70)\n",
    "\n",
    "display_label.place(relx=1.0, x=-175, rely=0.5, anchor=tk.E)\n",
    "\n",
    "# Running the Tkinter event loop\n",
    "root.mainloop()"
   ]
  }
 ],
 "metadata": {
  "kernelspec": {
   "display_name": "pytorch_gpu",
   "language": "python",
   "name": "python3"
  },
  "language_info": {
   "codemirror_mode": {
    "name": "ipython",
    "version": 3
   },
   "file_extension": ".py",
   "mimetype": "text/x-python",
   "name": "python",
   "nbconvert_exporter": "python",
   "pygments_lexer": "ipython3",
   "version": "3.11.7"
  }
 },
 "nbformat": 4,
 "nbformat_minor": 2
}
